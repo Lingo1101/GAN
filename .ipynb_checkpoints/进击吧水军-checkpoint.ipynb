{
 "cells": [
  {
   "cell_type": "markdown",
   "metadata": {},
   "source": [
    "https://blog.csdn.net/sxf1061926959/article/details/54630462\n",
    "生成对抗网络GANs理解\n",
    "\n",
    "https://blog.csdn.net/jkbhbgy/article/details/80168048\n",
    "生成对抗网络（GAN）常见应用\n",
    "\n",
    "https://blog.csdn.net/blood0604/article/details/73635586?locationNum=1&fps=1\n",
    "生成对抗网络(GAN)的理论与应用完整入门介绍\n",
    "\n",
    "https://www.cnblogs.com/jins-note/p/9951061.html\n",
    "对抗网络GAN的应用实例 \n",
    "\n",
    "https://blog.csdn.net/stalbo/article/details/79283399\n",
    "GAN论文阅读——原始GAN（基本概念及理论推导）\n",
    "\n",
    "https://blog.csdn.net/wspba/article/details/54577236\n",
    "Generative Adversarial Nets（译）\n",
    "\n",
    "https://blog.csdn.net/openSUSE1995/article/details/79233101\n",
    "GAN论文研读(一)-----GAN与cGAN\n",
    "\n",
    "https://blog.csdn.net/qq_16137569/article/details/79950092\n",
    "全文翻译&杂记《Image-to-Image Translation with Conditional Adversarial NetWorks》\n",
    "\n",
    "https://blog.csdn.net/yinruiyang94/article/details/78122629\n",
    "从代码学ConditionalGAN\n",
    "\n",
    "https://blog.csdn.net/qq_29462849/article/details/80551064\n",
    "CGAN-条件生成式对抗网络（附源代码，可以直接运行）\n"
   ]
  }
 ],
 "metadata": {
  "kernelspec": {
   "display_name": "Python 3",
   "language": "python",
   "name": "python3"
  },
  "language_info": {
   "codemirror_mode": {
    "name": "ipython",
    "version": 3
   },
   "file_extension": ".py",
   "mimetype": "text/x-python",
   "name": "python",
   "nbconvert_exporter": "python",
   "pygments_lexer": "ipython3",
   "version": "3.7.4"
  }
 },
 "nbformat": 4,
 "nbformat_minor": 2
}
